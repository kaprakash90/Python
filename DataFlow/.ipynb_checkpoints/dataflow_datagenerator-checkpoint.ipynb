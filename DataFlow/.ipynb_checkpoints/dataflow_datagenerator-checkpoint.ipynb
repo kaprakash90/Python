{
 "cells": [
  {
   "cell_type": "code",
   "execution_count": 99,
   "metadata": {},
   "outputs": [
    {
     "ename": "AttributeError",
     "evalue": "'module' object has no attribute 'now'",
     "output_type": "error",
     "traceback": [
      "\u001b[0;31m---------------------------------------------------------------------------\u001b[0m",
      "\u001b[0;31mAttributeError\u001b[0m                            Traceback (most recent call last)",
      "\u001b[0;32m<ipython-input-99-306482ae66d7>\u001b[0m in \u001b[0;36m<module>\u001b[0;34m()\u001b[0m\n\u001b[1;32m     19\u001b[0m \u001b[0;32mfrom\u001b[0m \u001b[0mdatetime\u001b[0m \u001b[0;32mimport\u001b[0m \u001b[0mtimedelta\u001b[0m\u001b[0;34m\u001b[0m\u001b[0m\n\u001b[1;32m     20\u001b[0m \u001b[0;34m\u001b[0m\u001b[0m\n\u001b[0;32m---> 21\u001b[0;31m \u001b[0mstart_time\u001b[0m \u001b[0;34m=\u001b[0m \u001b[0mdatetime\u001b[0m\u001b[0;34m.\u001b[0m\u001b[0mnow\u001b[0m\u001b[0;34m(\u001b[0m\u001b[0;34m)\u001b[0m\u001b[0;34m\u001b[0m\u001b[0m\n\u001b[0m\u001b[1;32m     22\u001b[0m \u001b[0;34m\u001b[0m\u001b[0m\n\u001b[1;32m     23\u001b[0m \u001b[0;32mprint\u001b[0m \u001b[0mstart_time\u001b[0m\u001b[0;34m\u001b[0m\u001b[0m\n",
      "\u001b[0;31mAttributeError\u001b[0m: 'module' object has no attribute 'now'"
     ]
    }
   ],
   "source": [
    "from __future__ import absolute_import\n",
    "\n",
    "import argparse\n",
    "import logging\n",
    "import re\n",
    "import six\n",
    "\n",
    "import apache_beam as beam\n",
    "from apache_beam.io import ReadFromText\n",
    "from apache_beam.io import WriteToText\n",
    "from apache_beam.options.pipeline_options import PipelineOptions\n",
    "from apache_beam.options.pipeline_options import SetupOptions\n",
    "\n",
    "\n",
    "import json as js\n",
    "import time\n",
    "import datetime\n",
    "import random\n",
    "from datetime import timedelta\n",
    "\n",
    "start_time = datetime.now()\n",
    "\n",
    "print start_time"
   ]
  },
  {
   "cell_type": "code",
   "execution_count": 51,
   "metadata": {},
   "outputs": [],
   "source": [
    "class ParseRecordDoFnUsrClust(beam.DoFn):\n",
    "    def process(self, element):\n",
    "        import json\n",
    "        r = json.loads(element)\n",
    "        yield r['UserId'], r['ProductID']"
   ]
  },
  {
   "cell_type": "code",
   "execution_count": 96,
   "metadata": {},
   "outputs": [],
   "source": [
    "input_file = './datain'\n",
    "output_file = './dataout'"
   ]
  },
  {
   "cell_type": "code",
   "execution_count": 97,
   "metadata": {},
   "outputs": [
    {
     "ename": "NameError",
     "evalue": "name 'MyGCSWrite' is not defined",
     "output_type": "error",
     "traceback": [
      "\u001b[0;31m---------------------------------------------------------------------------\u001b[0m",
      "\u001b[0;31mNameError\u001b[0m                                 Traceback (most recent call last)",
      "\u001b[0;32m<ipython-input-97-c26ec408b6bc>\u001b[0m in \u001b[0;36m<module>\u001b[0;34m()\u001b[0m\n\u001b[1;32m      3\u001b[0m \u001b[0muser_ids\u001b[0m \u001b[0;34m=\u001b[0m \u001b[0;34m[\u001b[0m\u001b[0mi\u001b[0m \u001b[0;32mfor\u001b[0m \u001b[0mi\u001b[0m \u001b[0;32min\u001b[0m \u001b[0mrange\u001b[0m\u001b[0;34m(\u001b[0m\u001b[0;36m1\u001b[0m\u001b[0;34m,\u001b[0m\u001b[0;36m50001\u001b[0m\u001b[0;34m)\u001b[0m\u001b[0;34m]\u001b[0m\u001b[0;34m\u001b[0m\u001b[0m\n\u001b[1;32m      4\u001b[0m \u001b[0;34m\u001b[0m\u001b[0m\n\u001b[0;32m----> 5\u001b[0;31m \u001b[0;32mwith\u001b[0m \u001b[0mMyGCSWrite\u001b[0m\u001b[0;34m(\u001b[0m\u001b[0mclient\u001b[0m\u001b[0;34m=\u001b[0m\u001b[0mclient\u001b[0m\u001b[0;34m,\u001b[0m \u001b[0mbucket_name\u001b[0m\u001b[0;34m=\u001b[0m\u001b[0;34m'sales_bkt'\u001b[0m\u001b[0;34m,\u001b[0m \u001b[0mblob_name\u001b[0m\u001b[0;34m=\u001b[0m\u001b[0;34m'salesusrdatatst'\u001b[0m\u001b[0;34m)\u001b[0m \u001b[0;32mas\u001b[0m \u001b[0ms\u001b[0m\u001b[0;34m:\u001b[0m\u001b[0;34m\u001b[0m\u001b[0m\n\u001b[0m\u001b[1;32m      6\u001b[0m     \u001b[0;32mfor\u001b[0m \u001b[0mi\u001b[0m \u001b[0;32min\u001b[0m \u001b[0mxrange\u001b[0m\u001b[0;34m(\u001b[0m\u001b[0;36m500\u001b[0m\u001b[0;34m)\u001b[0m\u001b[0;34m:\u001b[0m\u001b[0;34m\u001b[0m\u001b[0m\n\u001b[1;32m      7\u001b[0m         \u001b[0;32mfor\u001b[0m \u001b[0mnum\u001b[0m\u001b[0;34m,\u001b[0m \u001b[0mix\u001b[0m \u001b[0;32min\u001b[0m \u001b[0menumerate\u001b[0m\u001b[0;34m(\u001b[0m\u001b[0mproduct\u001b[0m\u001b[0;34m)\u001b[0m\u001b[0;34m:\u001b[0m\u001b[0;34m\u001b[0m\u001b[0m\n",
      "\u001b[0;31mNameError\u001b[0m: name 'MyGCSWrite' is not defined"
     ]
    }
   ],
   "source": [
    "product = {'milk':[1,22], 'soft_drink_300ml':[2,37], 'soft_drink_500ml':[3,43], 'soft_drink_1l':[4,69], 'beer':[5,84], 'snacks':[6,51], 'sweets':[7,112], 'candy':[8,34],'rice':[9,67], 'dhal':[10,73],'shampoo':[11,96], 'soap':[12,29],'face_wash':[13,121],'chicken':[14,212],'mutton':[15,576], 'shirt':[16,399], 'pant':[17,599], 'shorts':[18,259], 'salvar':[19,699], 'shoe':[20,399],'flipflop':[21,199]}\n",
    "#user = ['Andy', 'Charles', 'Dan', 'Alex', 'Arun', 'Bala','Mohan', 'Tamil']\n",
    "user_ids = [i for i in range(1,50001)]\n",
    "\n",
    "with MyGCSWrite(client=client, bucket_name='sales_bkt', blob_name='salesusrdatatst') as s:\n",
    "    for i in xrange(500):\n",
    "        for num, ix in enumerate(product):\n",
    "            rn = random.randint(0,5000)\n",
    "            rnd = random.randint(1,365)\n",
    "            #print rn\n",
    "            usr = user_ids[rn]\n",
    "            s.write('%s\\n' % js.dumps({'Itemid': product[ix][0] , 'Name': ix, 'Price': product[ix][1], 'Timestamp': str(datetime.date.today()- timedelta(days=rnd)), 'User':usr, 'UserId':rn}))"
   ]
  },
  {
   "cell_type": "code",
   "execution_count": 101,
   "metadata": {},
   "outputs": [
    {
     "name": "stdout",
     "output_type": "stream",
     "text": [
      "{\"Itemid\": 4, \"Name\": \"soft_drink_1l\", \"Timestamp\": \"2018-05-30\", \"Price\": 69, \"UserId\": 1524, \"User\": 1525}\r\n",
      "{\"Itemid\": 18, \"Name\": \"shorts\", \"Timestamp\": \"2017-10-11\", \"Price\": 259, \"UserId\": 377, \"User\": 378}\r\n",
      "{\"Itemid\": 13, \"Name\": \"face_wash\", \"Timestamp\": \"2018-06-05\", \"Price\": 121, \"UserId\": 618, \"User\": 619}\r\n"
     ]
    }
   ],
   "source": [
    "def generate_data(outfile, size):\n",
    "    import json\n",
    "    import time\n",
    "    import random\n",
    "    product = {'milk':[1,22], 'soft_drink_300ml':[2,37], 'soft_drink_500ml':[3,43], 'soft_drink_1l':[4,69], 'beer':[5,84], 'snacks':[6,51], 'sweets':[7,112], 'candy':[8,34],'rice':[9,67], 'dhal':[10,73],'shampoo':[11,96], 'soap':[12,29],'face_wash':[13,121],'chicken':[14,212],'mutton':[15,576], 'shirt':[16,399], 'pant':[17,599], 'shorts':[18,259], 'salvar':[19,699], 'shoe':[20,399],'flipflop':[21,199]}\n",
    "    user_ids = [i for i in range(1,50001)]\n",
    "    with open(outfile, 'wt') as f:  \n",
    "        for _ in xrange(size):\n",
    "            for num, ix in enumerate(product):\n",
    "                rn = random.randint(0,5000)\n",
    "                usr = user_ids[rn]\n",
    "                rnd = random.randint(1,365)\n",
    "                f.write('%s\\n' % json.dumps(\n",
    "                        {'Itemid': product[ix][0] , 'Name': ix, 'Price': product[ix][1], 'Timestamp': str(datetime.date.today()- timedelta(days=rnd)), 'User':usr, 'UserId':rn}))\n",
    "\n",
    "generate_data(input_file, 10)\n",
    "!head -3 $input_file"
   ]
  },
  {
   "cell_type": "code",
   "execution_count": 102,
   "metadata": {},
   "outputs": [],
   "source": [
    "class ParseRecordDoFnUsrClust(beam.DoFn):\n",
    "    def process(self, element):\n",
    "        import json\n",
    "        r = json.loads(element)\n",
    "        yield r['UserId'], r['Price']"
   ]
  },
  {
   "cell_type": "code",
   "execution_count": 103,
   "metadata": {},
   "outputs": [],
   "source": [
    "from IPython.core.magic import register_cell_magic\n",
    "@register_cell_magic\n",
    "def dataflow_run(line, cell):\n",
    "    p = beam.Pipeline('DirectRunner')\n",
    "    p | eval(cell)\n",
    "    p.run()\n",
    "    !head -3 $output_file"
   ]
  },
  {
   "cell_type": "code",
   "execution_count": null,
   "metadata": {},
   "outputs": [],
   "source": []
  },
  {
   "cell_type": "code",
   "execution_count": 116,
   "metadata": {},
   "outputs": [],
   "source": [
    "class ParseRecordDoFnmap(beam.DoFn):\n",
    "    def process(self,gd):\n",
    "        e1, e2 = gd\n",
    "        ele = list(e2)\n",
    "        item_count = len(ele)\n",
    "        total_price = sum(ele)\n",
    "        yield e1 , [item_count , total_price]"
   ]
  },
  {
   "cell_type": "code",
   "execution_count": null,
   "metadata": {},
   "outputs": [],
   "source": []
  },
  {
   "cell_type": "code",
   "execution_count": 117,
   "metadata": {},
   "outputs": [
    {
     "name": "stderr",
     "output_type": "stream",
     "text": [
      "INFO:root:==================== <function annotate_downstream_side_inputs at 0x1073540c8> ====================\n",
      "INFO:root:==================== <function lift_combiners at 0x1073549b0> ====================\n",
      "INFO:root:==================== <function expand_gbk at 0x107354410> ====================\n",
      "INFO:root:==================== <function sink_flattens at 0x1073545f0> ====================\n",
      "INFO:root:==================== <function greedily_fuse at 0x107354a28> ====================\n",
      "INFO:root:==================== <function sort_stages at 0x107354f50> ====================\n",
      "INFO:root:Running (ref_AppliedPTransform_ReadFromText|ParDo(ParseRecordDoFnUsrClust)|GroupByKey|ParDo(ParseRecordDoFnmap)|WriteToText/ReadFromText/Read_4)+((ref_AppliedPTransform_ReadFromText|ParDo(ParseRecordDoFnUsrClust)|GroupByKey|ParDo(ParseRecordDoFnmap)|WriteToText/ParDo(ParseRecordDoFnUsrClust)_5)+(ReadFromText|ParDo(ParseRecordDoFnUsrClust)|GroupByKey|ParDo(ParseRecordDoFnmap)|WriteToText/GroupByKey/Write))\n",
      "INFO:root:start <DataOutputOperation ReadFromText|ParDo(ParseRecordDoFnUsrClust)|GroupByKey|ParDo(ParseRecordDoFnmap)|WriteToText/GroupByKey/Write >\n",
      "INFO:root:start <DoOperation ReadFromText|ParDo(ParseRecordDoFnUsrClust)|GroupByKey|ParDo(ParseRecordDoFnmap)|WriteToText/ParDo(ParseRecordDoFnUsrClust) output_tags=['out']>\n",
      "INFO:root:start <ReadOperation ReadFromText|ParDo(ParseRecordDoFnUsrClust)|GroupByKey|ParDo(ParseRecordDoFnmap)|WriteToText/ReadFromText/Read source=SourceBundle(weight=1.0, source=<apache_beam.io.textio._TextSource object at 0x1073e7ed0>, start_position=None, stop_position=None)>\n",
      "INFO:root:finish <ReadOperation ReadFromText|ParDo(ParseRecordDoFnUsrClust)|GroupByKey|ParDo(ParseRecordDoFnmap)|WriteToText/ReadFromText/Read source=SourceBundle(weight=1.0, source=<apache_beam.io.textio._TextSource object at 0x1073e7ed0>, start_position=None, stop_position=None), receivers=[ConsumerSet[ReadFromText|ParDo(ParseRecordDoFnUsrClust)|GroupByKey|ParDo(ParseRecordDoFnmap)|WriteToText/ReadFromText/Read.out0, coder=WindowedValueCoder[FastPrimitivesCoder], len(consumers)=1]]>\n",
      "INFO:root:finish <DoOperation ReadFromText|ParDo(ParseRecordDoFnUsrClust)|GroupByKey|ParDo(ParseRecordDoFnmap)|WriteToText/ParDo(ParseRecordDoFnUsrClust) output_tags=['out'], receivers=[ConsumerSet[ReadFromText|ParDo(ParseRecordDoFnUsrClust)|GroupByKey|ParDo(ParseRecordDoFnmap)|WriteToText/ParDo(ParseRecordDoFnUsrClust).out0, coder=WindowedValueCoder[TupleCoder[LengthPrefixCoder[FastPrimitivesCoder], LengthPrefixCoder[FastPrimitivesCoder]]], len(consumers)=1]]>\n",
      "INFO:root:finish <DataOutputOperation ReadFromText|ParDo(ParseRecordDoFnUsrClust)|GroupByKey|ParDo(ParseRecordDoFnmap)|WriteToText/GroupByKey/Write >\n",
      "INFO:root:Running (((ref_AppliedPTransform_ReadFromText|ParDo(ParseRecordDoFnUsrClust)|GroupByKey|ParDo(ParseRecordDoFnmap)|WriteToText/WriteToText/Write/WriteImpl/DoOnce/Read_15)+(ref_AppliedPTransform_ReadFromText|ParDo(ParseRecordDoFnUsrClust)|GroupByKey|ParDo(ParseRecordDoFnmap)|WriteToText/WriteToText/Write/WriteImpl/InitializeWrite_16))+(ref_PCollection_PCollection_7/Write))+(ref_PCollection_PCollection_8/Write)\n",
      "INFO:root:start <DataOutputOperation ref_PCollection_PCollection_8/Write >\n",
      "INFO:root:start <DataOutputOperation ref_PCollection_PCollection_7/Write >\n",
      "INFO:root:start <DoOperation ReadFromText|ParDo(ParseRecordDoFnUsrClust)|GroupByKey|ParDo(ParseRecordDoFnmap)|WriteToText/WriteToText/Write/WriteImpl/InitializeWrite output_tags=['out']>\n",
      "INFO:root:start <ReadOperation ReadFromText|ParDo(ParseRecordDoFnUsrClust)|GroupByKey|ParDo(ParseRecordDoFnmap)|WriteToText/WriteToText/Write/WriteImpl/DoOnce/Read source=SourceBundle(weight=1.0, source=<apache_beam.transforms.core._CreateSource object at 0x107d009d0>, start_position=None, stop_position=None)>\n",
      "INFO:root:finish <ReadOperation ReadFromText|ParDo(ParseRecordDoFnUsrClust)|GroupByKey|ParDo(ParseRecordDoFnmap)|WriteToText/WriteToText/Write/WriteImpl/DoOnce/Read source=SourceBundle(weight=1.0, source=<apache_beam.transforms.core._CreateSource object at 0x107d009d0>, start_position=None, stop_position=None), receivers=[ConsumerSet[ReadFromText|ParDo(ParseRecordDoFnUsrClust)|GroupByKey|ParDo(ParseRecordDoFnmap)|WriteToText/WriteToText/Write/WriteImpl/DoOnce/Read.out0, coder=WindowedValueCoder[FastPrimitivesCoder], len(consumers)=2]]>\n",
      "INFO:root:finish <DoOperation ReadFromText|ParDo(ParseRecordDoFnUsrClust)|GroupByKey|ParDo(ParseRecordDoFnmap)|WriteToText/WriteToText/Write/WriteImpl/InitializeWrite output_tags=['out'], receivers=[ConsumerSet[ReadFromText|ParDo(ParseRecordDoFnUsrClust)|GroupByKey|ParDo(ParseRecordDoFnmap)|WriteToText/WriteToText/Write/WriteImpl/InitializeWrite.out0, coder=WindowedValueCoder[FastPrimitivesCoder], len(consumers)=1]]>\n",
      "INFO:root:finish <DataOutputOperation ref_PCollection_PCollection_7/Write >\n",
      "INFO:root:finish <DataOutputOperation ref_PCollection_PCollection_8/Write >\n",
      "INFO:root:Running (((ReadFromText|ParDo(ParseRecordDoFnUsrClust)|GroupByKey|ParDo(ParseRecordDoFnmap)|WriteToText/GroupByKey/Read)+((ref_AppliedPTransform_ReadFromText|ParDo(ParseRecordDoFnUsrClust)|GroupByKey|ParDo(ParseRecordDoFnmap)|WriteToText/ParDo(ParseRecordDoFnmap)_10)+(ref_AppliedPTransform_ReadFromText|ParDo(ParseRecordDoFnUsrClust)|GroupByKey|ParDo(ParseRecordDoFnmap)|WriteToText/WriteToText/Write/WriteImpl/WriteBundles_17)))+(ref_AppliedPTransform_ReadFromText|ParDo(ParseRecordDoFnUsrClust)|GroupByKey|ParDo(ParseRecordDoFnmap)|WriteToText/WriteToText/Write/WriteImpl/Pair_18))+((ref_AppliedPTransform_ReadFromText|ParDo(ParseRecordDoFnUsrClust)|GroupByKey|ParDo(ParseRecordDoFnmap)|WriteToText/WriteToText/Write/WriteImpl/WindowInto(WindowIntoFn)_19)+(ReadFromText|ParDo(ParseRecordDoFnUsrClust)|GroupByKey|ParDo(ParseRecordDoFnmap)|WriteToText/WriteToText/Write/WriteImpl/GroupByKey/Write))\n",
      "INFO:root:start <DataOutputOperation ReadFromText|ParDo(ParseRecordDoFnUsrClust)|GroupByKey|ParDo(ParseRecordDoFnmap)|WriteToText/WriteToText/Write/WriteImpl/GroupByKey/Write >\n",
      "INFO:root:start <DoOperation ReadFromText|ParDo(ParseRecordDoFnUsrClust)|GroupByKey|ParDo(ParseRecordDoFnmap)|WriteToText/WriteToText/Write/WriteImpl/WindowInto(WindowIntoFn) output_tags=['out']>\n",
      "INFO:root:start <DoOperation ReadFromText|ParDo(ParseRecordDoFnUsrClust)|GroupByKey|ParDo(ParseRecordDoFnmap)|WriteToText/WriteToText/Write/WriteImpl/Pair output_tags=['out']>\n",
      "INFO:root:start <DoOperation ReadFromText|ParDo(ParseRecordDoFnUsrClust)|GroupByKey|ParDo(ParseRecordDoFnmap)|WriteToText/WriteToText/Write/WriteImpl/WriteBundles output_tags=['out']>\n",
      "INFO:root:start <DoOperation ReadFromText|ParDo(ParseRecordDoFnUsrClust)|GroupByKey|ParDo(ParseRecordDoFnmap)|WriteToText/ParDo(ParseRecordDoFnmap) output_tags=['out']>\n",
      "INFO:root:start <DataInputOperation ReadFromText|ParDo(ParseRecordDoFnUsrClust)|GroupByKey|ParDo(ParseRecordDoFnmap)|WriteToText/GroupByKey/Read receivers=[ConsumerSet[ReadFromText|ParDo(ParseRecordDoFnUsrClust)|GroupByKey|ParDo(ParseRecordDoFnmap)|WriteToText/GroupByKey/Read.out0, coder=WindowedValueCoder[TupleCoder[LengthPrefixCoder[FastPrimitivesCoder], IterableCoder[LengthPrefixCoder[FastPrimitivesCoder]]]], len(consumers)=1]]>\n",
      "INFO:root:finish <DataInputOperation ReadFromText|ParDo(ParseRecordDoFnUsrClust)|GroupByKey|ParDo(ParseRecordDoFnmap)|WriteToText/GroupByKey/Read receivers=[ConsumerSet[ReadFromText|ParDo(ParseRecordDoFnUsrClust)|GroupByKey|ParDo(ParseRecordDoFnmap)|WriteToText/GroupByKey/Read.out0, coder=WindowedValueCoder[TupleCoder[LengthPrefixCoder[FastPrimitivesCoder], IterableCoder[LengthPrefixCoder[FastPrimitivesCoder]]]], len(consumers)=1]]>\n",
      "INFO:root:finish <DoOperation ReadFromText|ParDo(ParseRecordDoFnUsrClust)|GroupByKey|ParDo(ParseRecordDoFnmap)|WriteToText/ParDo(ParseRecordDoFnmap) output_tags=['out'], receivers=[ConsumerSet[ReadFromText|ParDo(ParseRecordDoFnUsrClust)|GroupByKey|ParDo(ParseRecordDoFnmap)|WriteToText/ParDo(ParseRecordDoFnmap).out0, coder=WindowedValueCoder[TupleCoder[FastPrimitivesCoder, VarIntCoder, FastPrimitivesCoder]], len(consumers)=1]]>\n",
      "INFO:root:finish <DoOperation ReadFromText|ParDo(ParseRecordDoFnUsrClust)|GroupByKey|ParDo(ParseRecordDoFnmap)|WriteToText/WriteToText/Write/WriteImpl/WriteBundles output_tags=['out'], receivers=[ConsumerSet[ReadFromText|ParDo(ParseRecordDoFnUsrClust)|GroupByKey|ParDo(ParseRecordDoFnmap)|WriteToText/WriteToText/Write/WriteImpl/WriteBundles.out0, coder=WindowedValueCoder[FastPrimitivesCoder], len(consumers)=1]]>\n"
     ]
    },
    {
     "name": "stderr",
     "output_type": "stream",
     "text": [
      "INFO:root:finish <DoOperation ReadFromText|ParDo(ParseRecordDoFnUsrClust)|GroupByKey|ParDo(ParseRecordDoFnmap)|WriteToText/WriteToText/Write/WriteImpl/Pair output_tags=['out'], receivers=[ConsumerSet[ReadFromText|ParDo(ParseRecordDoFnUsrClust)|GroupByKey|ParDo(ParseRecordDoFnmap)|WriteToText/WriteToText/Write/WriteImpl/Pair.out0, coder=WindowedValueCoder[TupleCoder[FastPrimitivesCoder, FastPrimitivesCoder]], len(consumers)=1]]>\n",
      "INFO:root:finish <DoOperation ReadFromText|ParDo(ParseRecordDoFnUsrClust)|GroupByKey|ParDo(ParseRecordDoFnmap)|WriteToText/WriteToText/Write/WriteImpl/WindowInto(WindowIntoFn) output_tags=['out'], receivers=[ConsumerSet[ReadFromText|ParDo(ParseRecordDoFnUsrClust)|GroupByKey|ParDo(ParseRecordDoFnmap)|WriteToText/WriteToText/Write/WriteImpl/WindowInto(WindowIntoFn).out0, coder=WindowedValueCoder[TupleCoder[LengthPrefixCoder[FastPrimitivesCoder], LengthPrefixCoder[FastPrimitivesCoder]]], len(consumers)=1]]>\n",
      "INFO:root:finish <DataOutputOperation ReadFromText|ParDo(ParseRecordDoFnUsrClust)|GroupByKey|ParDo(ParseRecordDoFnmap)|WriteToText/WriteToText/Write/WriteImpl/GroupByKey/Write >\n",
      "INFO:root:Running (ReadFromText|ParDo(ParseRecordDoFnUsrClust)|GroupByKey|ParDo(ParseRecordDoFnmap)|WriteToText/WriteToText/Write/WriteImpl/GroupByKey/Read)+((ref_AppliedPTransform_ReadFromText|ParDo(ParseRecordDoFnUsrClust)|GroupByKey|ParDo(ParseRecordDoFnmap)|WriteToText/WriteToText/Write/WriteImpl/Extract_24)+(ref_PCollection_PCollection_15/Write))\n",
      "INFO:root:start <DataOutputOperation ref_PCollection_PCollection_15/Write >\n",
      "INFO:root:start <DoOperation ReadFromText|ParDo(ParseRecordDoFnUsrClust)|GroupByKey|ParDo(ParseRecordDoFnmap)|WriteToText/WriteToText/Write/WriteImpl/Extract output_tags=['out']>\n",
      "INFO:root:start <DataInputOperation ReadFromText|ParDo(ParseRecordDoFnUsrClust)|GroupByKey|ParDo(ParseRecordDoFnmap)|WriteToText/WriteToText/Write/WriteImpl/GroupByKey/Read receivers=[ConsumerSet[ReadFromText|ParDo(ParseRecordDoFnUsrClust)|GroupByKey|ParDo(ParseRecordDoFnmap)|WriteToText/WriteToText/Write/WriteImpl/GroupByKey/Read.out0, coder=WindowedValueCoder[TupleCoder[LengthPrefixCoder[FastPrimitivesCoder], IterableCoder[LengthPrefixCoder[FastPrimitivesCoder]]]], len(consumers)=1]]>\n",
      "INFO:root:finish <DataInputOperation ReadFromText|ParDo(ParseRecordDoFnUsrClust)|GroupByKey|ParDo(ParseRecordDoFnmap)|WriteToText/WriteToText/Write/WriteImpl/GroupByKey/Read receivers=[ConsumerSet[ReadFromText|ParDo(ParseRecordDoFnUsrClust)|GroupByKey|ParDo(ParseRecordDoFnmap)|WriteToText/WriteToText/Write/WriteImpl/GroupByKey/Read.out0, coder=WindowedValueCoder[TupleCoder[LengthPrefixCoder[FastPrimitivesCoder], IterableCoder[LengthPrefixCoder[FastPrimitivesCoder]]]], len(consumers)=1]]>\n",
      "INFO:root:finish <DoOperation ReadFromText|ParDo(ParseRecordDoFnUsrClust)|GroupByKey|ParDo(ParseRecordDoFnmap)|WriteToText/WriteToText/Write/WriteImpl/Extract output_tags=['out'], receivers=[ConsumerSet[ReadFromText|ParDo(ParseRecordDoFnUsrClust)|GroupByKey|ParDo(ParseRecordDoFnmap)|WriteToText/WriteToText/Write/WriteImpl/Extract.out0, coder=WindowedValueCoder[FastPrimitivesCoder], len(consumers)=1]]>\n",
      "INFO:root:finish <DataOutputOperation ref_PCollection_PCollection_15/Write >\n",
      "INFO:root:Running (ref_PCollection_PCollection_7/Read)+(ref_AppliedPTransform_ReadFromText|ParDo(ParseRecordDoFnUsrClust)|GroupByKey|ParDo(ParseRecordDoFnmap)|WriteToText/WriteToText/Write/WriteImpl/FinalizeWrite_25)\n",
      "INFO:root:start <DoOperation ReadFromText|ParDo(ParseRecordDoFnUsrClust)|GroupByKey|ParDo(ParseRecordDoFnmap)|WriteToText/WriteToText/Write/WriteImpl/FinalizeWrite output_tags=['out']>\n",
      "INFO:root:start <DataInputOperation ref_PCollection_PCollection_7/Read receivers=[ConsumerSet[ref_PCollection_PCollection_7/Read.out0, coder=WindowedValueCoder[FastPrimitivesCoder], len(consumers)=1]]>\n",
      "INFO:root:Starting finalize_write threads with num_shards: 1, batches: 1, num_threads: 1\n",
      "INFO:root:Renamed 1 shards in 0.13 seconds.\n",
      "INFO:root:finish <DataInputOperation ref_PCollection_PCollection_7/Read receivers=[ConsumerSet[ref_PCollection_PCollection_7/Read.out0, coder=WindowedValueCoder[FastPrimitivesCoder], len(consumers)=1]]>\n",
      "INFO:root:finish <DoOperation ReadFromText|ParDo(ParseRecordDoFnUsrClust)|GroupByKey|ParDo(ParseRecordDoFnmap)|WriteToText/WriteToText/Write/WriteImpl/FinalizeWrite output_tags=['out'], receivers=[ConsumerSet[ReadFromText|ParDo(ParseRecordDoFnUsrClust)|GroupByKey|ParDo(ParseRecordDoFnmap)|WriteToText/WriteToText/Write/WriteImpl/FinalizeWrite.out0, coder=WindowedValueCoder[FastPrimitivesCoder], len(consumers)=0]]>\n"
     ]
    },
    {
     "name": "stdout",
     "output_type": "stream",
     "text": [
      "[1438, 1, 34]\r\n",
      "[4820, 2, 112]\r\n",
      "[498, 3, 161]\r\n"
     ]
    }
   ],
   "source": [
    "%%dataflow_run\n",
    "(ReadFromText(input_file)\n",
    " | beam.ParDo(ParseRecordDoFnUsrClust())\n",
    " | beam.GroupByKey()\n",
    " | beam.ParDo(ParseRecordDoFnmap())\n",
    " | WriteToText(output_file))"
   ]
  },
  {
   "cell_type": "code",
   "execution_count": 32,
   "metadata": {},
   "outputs": [],
   "source": [
    "!head -3 $output_file"
   ]
  },
  {
   "cell_type": "code",
   "execution_count": 55,
   "metadata": {},
   "outputs": [],
   "source": [
    "user_ids = [i for i in range(1,50001)]"
   ]
  },
  {
   "cell_type": "code",
   "execution_count": 56,
   "metadata": {},
   "outputs": [
    {
     "data": {
      "text/plain": [
       "[1, 2, 3, 4, 5, 6, 7, 8, 9, 10]"
      ]
     },
     "execution_count": 56,
     "metadata": {},
     "output_type": "execute_result"
    }
   ],
   "source": [
    "l"
   ]
  },
  {
   "cell_type": "code",
   "execution_count": 57,
   "metadata": {},
   "outputs": [],
   "source": [
    "import datetime as date"
   ]
  },
  {
   "cell_type": "code",
   "execution_count": 86,
   "metadata": {},
   "outputs": [],
   "source": [
    "import datetime\n",
    "from datetime import timedelta\n",
    "\n",
    "now = str(datetime.date.today() - timedelta(days=300))"
   ]
  },
  {
   "cell_type": "code",
   "execution_count": 87,
   "metadata": {},
   "outputs": [
    {
     "name": "stdout",
     "output_type": "stream",
     "text": [
      "2017-08-14\n"
     ]
    }
   ],
   "source": [
    "print str(now)"
   ]
  },
  {
   "cell_type": "code",
   "execution_count": 88,
   "metadata": {},
   "outputs": [
    {
     "data": {
      "text/plain": [
       "10"
      ]
     },
     "execution_count": 88,
     "metadata": {},
     "output_type": "execute_result"
    }
   ],
   "source": [
    "len(l)"
   ]
  },
  {
   "cell_type": "code",
   "execution_count": 89,
   "metadata": {},
   "outputs": [
    {
     "data": {
      "text/plain": [
       "55"
      ]
     },
     "execution_count": 89,
     "metadata": {},
     "output_type": "execute_result"
    }
   ],
   "source": [
    "sum(l)"
   ]
  },
  {
   "cell_type": "code",
   "execution_count": 107,
   "metadata": {},
   "outputs": [
    {
     "ename": "ImportError",
     "evalue": "No module named tensorflow",
     "output_type": "error",
     "traceback": [
      "\u001b[0;31m---------------------------------------------------------------------------\u001b[0m",
      "\u001b[0;31mImportError\u001b[0m                               Traceback (most recent call last)",
      "\u001b[0;32m<ipython-input-107-64156d691fe5>\u001b[0m in \u001b[0;36m<module>\u001b[0;34m()\u001b[0m\n\u001b[0;32m----> 1\u001b[0;31m \u001b[0;32mimport\u001b[0m \u001b[0mtensorflow\u001b[0m \u001b[0;32mas\u001b[0m \u001b[0mtf\u001b[0m\u001b[0;34m\u001b[0m\u001b[0m\n\u001b[0m",
      "\u001b[0;31mImportError\u001b[0m: No module named tensorflow"
     ]
    }
   ],
   "source": []
  },
  {
   "cell_type": "code",
   "execution_count": null,
   "metadata": {},
   "outputs": [],
   "source": []
  }
 ],
 "metadata": {
  "kernelspec": {
   "display_name": "Python 2",
   "language": "python",
   "name": "python2"
  },
  "language_info": {
   "codemirror_mode": {
    "name": "ipython",
    "version": 2
   },
   "file_extension": ".py",
   "mimetype": "text/x-python",
   "name": "python",
   "nbconvert_exporter": "python",
   "pygments_lexer": "ipython2",
   "version": "2.7.15"
  }
 },
 "nbformat": 4,
 "nbformat_minor": 2
}
